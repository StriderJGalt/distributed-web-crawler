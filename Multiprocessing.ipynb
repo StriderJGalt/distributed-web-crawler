{
 "cells": [
  {
   "cell_type": "code",
   "execution_count": 14,
   "metadata": {},
   "outputs": [],
   "source": [
    "from multiprocessing import Pool\n",
    "from bs4 import BeautifulSoup\n",
    "import requests\n"
   ]
  },
  {
   "cell_type": "code",
   "execution_count": 15,
   "metadata": {},
   "outputs": [],
   "source": [
    "def href_checker(href):\n",
    "    return href and href.startswith('http') and not href.endswith(('.css', \n",
    "     '.js', '.pdf', '.jpeg', 'tiff', '.svg', '.png', '#', 'javascript:void(0)'))\n"
   ]
  },
  {
   "cell_type": "code",
   "execution_count": 16,
   "metadata": {},
   "outputs": [],
   "source": [
    "def scrape(url_list):\n",
    "    child_urls = {}\n",
    "    # should it be a set to avoid duplicates or are duplicates\n",
    "    # needed for computing pagerank?\n",
    "    error_urls = []\n",
    "    for url in url_list:\n",
    "        try:\n",
    "            response = requests.get(url)\n",
    "            page = BeautifulSoup(response.text, 'html.parser')\n",
    "            child_url_list = []\n",
    "            for link in page.find_all(href=href_checker):\n",
    "                child_url_list.append(link['href'])\n",
    "            child_urls[url] = child_url_list\n",
    "        except:\n",
    "            error_urls.append(url)\n",
    "    return child_urls\n",
    "\n",
    "\n"
   ]
  },
  {
   "cell_type": "code",
   "execution_count": 23,
   "metadata": {},
   "outputs": [
    {
     "name": "stdout",
     "output_type": "stream",
     "text": [
      "['https://www.iiit.ac.in/', 'https://scholar.google.com/intl/en/scholar/about.html']\n",
      "[]\n",
      "[]\n",
      "[]\n"
     ]
    }
   ],
   "source": [
    "if __name__ == '__main__':\n",
    "    n = 4 ## Depth\n",
    "    arr = ['https://www.iiit.ac.in/', 'https://scholar.google.com/intl/en/scholar/about.html']\n",
    "    while(n):\n",
    "        print(arr)\n",
    "        n -= 1\n",
    "        with Pool(5) as p:\n",
    "            child_dicts = (p.map(scrape, arr))\n",
    "\n",
    "        arr = []\n",
    "        ## Storing child urls in new arr\n",
    "        for child_dict in child_dicts:\n",
    "            for key in child_dict.keys():\n",
    "                arr.extend(child_dic[key])"
   ]
  }
 ],
 "metadata": {
  "kernelspec": {
   "display_name": "Python 3",
   "language": "python",
   "name": "python3"
  },
  "language_info": {
   "codemirror_mode": {
    "name": "ipython",
    "version": 3
   },
   "file_extension": ".py",
   "mimetype": "text/x-python",
   "name": "python",
   "nbconvert_exporter": "python",
   "pygments_lexer": "ipython3",
   "version": "3.7.3"
  }
 },
 "nbformat": 4,
 "nbformat_minor": 2
}
